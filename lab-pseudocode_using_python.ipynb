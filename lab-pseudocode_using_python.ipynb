{
 "cells": [
  {
   "cell_type": "markdown",
   "metadata": {},
   "source": [
    "# LAB | Pseudocode Using Python\n",
    "\n",
    "## Overview\n",
    "\n",
    "This exercise will help you practice writing pseudocode and translating it into Python code. Pseudocode is a way to describe algorithms in a human-readable format, which can then be implemented in programming languages.\n",
    "\n"
   ]
  },
  {
   "cell_type": "markdown",
   "metadata": {},
   "source": [
    "### Exercise 1: Multiply Two Numbers\n",
    "\n",
    "Write a pseudocode to read two numbers and multiply them together. Then, write the equivalent Python code."
   ]
  },
  {
   "cell_type": "markdown",
   "metadata": {},
   "source": [
    "<!-- Add your pseudocode here -->"
   ]
  },
  {
   "cell_type": "code",
   "execution_count": null,
   "metadata": {},
   "outputs": [],
   "source": [
    "BEGIN\n",
    "    PROMPT \"Enter the first number:\"\n",
    "    READ number1\n",
    "\n",
    "    PROMPT \"Enter the second number:\"\n",
    "    READ number2\n",
    "\n",
    "    SET product = number1 * number2\n",
    "\n",
    "    PRINT \"The product of\", number1, \"and\", number2, \"is\", product\n",
    "END"
   ]
  },
  {
   "cell_type": "code",
   "execution_count": null,
   "metadata": {},
   "outputs": [],
   "source": [
    "# Read two numbers from the user\n",
    "number1 = float(input(\"Enter the first number: \"))\n",
    "number2 = float(input(\"Enter the second number: \"))\n",
    "\n",
    "# Multiply the numbers\n",
    "product = number1 * number2\n",
    "\n",
    "# Display the result\n",
    "print(\"The product is:\", product)\n"
   ]
  },
  {
   "cell_type": "markdown",
   "metadata": {},
   "source": [
    "### Exercise 2: Check Even or Odd\n",
    "\n",
    "Write pseudocode that checks if a number is even or odd and prints the result. Then, write the equivalent Python code."
   ]
  },
  {
   "cell_type": "markdown",
   "metadata": {},
   "source": [
    "<!-- Add your pseudocode here -->"
   ]
  },
  {
   "cell_type": "markdown",
   "metadata": {},
   "source": [
    "BEGIN\n",
    "    PROMPT \"Enter a number:\"\n",
    "    READ number\n",
    "\n",
    "    IF number MOD 2 EQUALS 0 THEN\n",
    "        PRINT \"The number is even.\"\n",
    "    ELSE\n",
    "        PRINT \"The number is odd.\"\n",
    "    END IF\n",
    "END"
   ]
  },
  {
   "cell_type": "code",
   "execution_count": null,
   "metadata": {},
   "outputs": [],
   "source": [
    "# Read a number from the user\n",
    "number = int(input(\"Enter a number: \"))\n",
    "\n",
    "# Check if the number is even or odd\n",
    "if number % 2 == 0:\n",
    "    print(\"The number is even.\")\n",
    "else:\n",
    "    print(\"The number is odd.\")\n"
   ]
  },
  {
   "cell_type": "markdown",
   "metadata": {},
   "source": [
    "### Exercise 3: Sum of First N Natural Numbers\n",
    "\n",
    "Write pseudocode to calculate the sum of the first N natural numbers. Then, write the equivalent Python code."
   ]
  },
  {
   "cell_type": "markdown",
   "metadata": {},
   "source": [
    "<!-- Add your pseudocode here -->"
   ]
  },
  {
   "cell_type": "markdown",
   "metadata": {},
   "source": [
    "BEGIN\n",
    "    PROMPT \"Enter a positive integer N:\"\n",
    "    READ N\n",
    "\n",
    "    SET sum = 0\n",
    "\n",
    "    FOR i FROM 1 to N DO\n",
    "        sum = sum + i\n",
    "    END FOR\n",
    "\n",
    "    PRINT \"The sum of the first\", N, \"natural numbers is:\", sum\n",
    "END\n"
   ]
  },
  {
   "cell_type": "code",
   "execution_count": null,
   "metadata": {},
   "outputs": [],
   "source": [
    "# Read input from the user\n",
    "N = int(input(\"Enter a positive integer N: \"))\n",
    "\n",
    "# Initialize sum\n",
    "total_sum = 0\n",
    "\n",
    "# Calculate sum of first N natural numbers\n",
    "for i in range(1, N + 1):\n",
    "    total_sum += i\n",
    "\n",
    "# Display the result\n",
    "print(f\"The sum of the first {N} natural numbers is: {total_sum}\")\n"
   ]
  },
  {
   "cell_type": "markdown",
   "metadata": {},
   "source": [
    "### Exercise 4: Find Maximum of Three Numbers\n",
    "\n",
    "Write pseudocode that finds the maximum of three numbers entered by the user. Then, write the equivalent Python code."
   ]
  },
  {
   "cell_type": "markdown",
   "metadata": {},
   "source": [
    "BEGIN\n",
    "    PROMPT \"Enter first number:\"\n",
    "    READ num 1\n",
    "\n",
    "     PROMPT \"Enter second number:\"\n",
    "    READ num 2\n",
    "\n",
    "     PROMPT \"Enter third number:\"\n",
    "    READ num 3\n",
    "\n",
    "    SET max = num1\n",
    "\n",
    "    IF num2 > max THEN\n",
    "        SET max = num3\n",
    "    END IF\n",
    "\n",
    "    PRINT \"The maximum number is:\", max\n",
    "END\n",
    "\n"
   ]
  },
  {
   "cell_type": "code",
   "execution_count": null,
   "metadata": {},
   "outputs": [],
   "source": [
    "# Read three numbers from the user\n",
    "num1 = float(input(\"Enter first number: \"))\n",
    "num2 = float(input(\"Enter second number: \"))\n",
    "num3 = float(input(\"Enter third number: \"))\n",
    "\n",
    "# Initialize max with num1\n",
    "max_num = num1\n",
    "\n",
    "# Compare num2 with max_num\n",
    "if num2 > max_num:\n",
    "    max_num = num2\n",
    "\n",
    "# Compare num3 with max_num\n",
    "if num3 > max_num:\n",
    "    max_num = num3\n",
    "\n",
    "# Print the maximum number\n",
    "print(\"The maximum number is:\", max_num)\n"
   ]
  },
  {
   "cell_type": "markdown",
   "metadata": {},
   "source": [
    "<!-- Add your pseudocode here -->"
   ]
  },
  {
   "cell_type": "markdown",
   "metadata": {},
   "source": [
    "### Exercise 5: Count Vowels in a String\n",
    "\n",
    "Write pseudocode to count the number of vowels in a given string and print the count. Then, write the equivalent Python code."
   ]
  },
  {
   "cell_type": "markdown",
   "metadata": {},
   "source": [
    "BEGIN\n",
    "    PROMPT \"Enter a string:\"\n",
    "    READ inputString\n",
    "\n",
    "    SET vowelCount = 0\n",
    "    SET vowels = ['a', 'e', 'i', 'o', 'u']\n",
    "\n",
    "    FOR each character in inputString DO\n",
    "        CONVERT character TO lowercse\n",
    "        IF character IS IN vowels THEN\n",
    "            INCREMENT vowelCount by 1\n",
    "        END IF\n",
    "\n",
    "    END FOR\n",
    "\n",
    "    PRINT \"Number of vowels:\", vowelCount\n",
    "END"
   ]
  },
  {
   "cell_type": "markdown",
   "metadata": {},
   "source": [
    "<!-- Add your pseudocode here -->"
   ]
  },
  {
   "cell_type": "markdown",
   "metadata": {},
   "source": [
    "## Bonus Exercises\n",
    "\n",
    "### Bonus Exercise 6: Reverse a String\n",
    "\n",
    "Write pseudocode to reverse a given string and print it out."
   ]
  },
  {
   "cell_type": "markdown",
   "metadata": {},
   "source": [
    "BEGIN\n",
    "    PROMPT \"Enter a string:\"\n",
    "    READ inputString\n",
    "\n",
    "    SET reversedString = empty string\n",
    "\n",
    "    FOR i FROM length of inputString -1 DOWN TO 0 DO\n",
    "        SET reversedString = reversedString + inputString [i]\n",
    "    END FOR\n",
    "\n",
    "    PRINT \"Reversed string:\", reversedString\n",
    "END"
   ]
  },
  {
   "cell_type": "markdown",
   "metadata": {},
   "source": [
    "<!-- Add your pseudocode here -->"
   ]
  },
  {
   "cell_type": "markdown",
   "metadata": {},
   "source": [
    "### Bonus Exercise 7: Print Multiplication Table of a Number\n",
    "\n",
    "Write pseudocode to print the multiplication table of a given number up to 10."
   ]
  },
  {
   "cell_type": "markdown",
   "metadata": {},
   "source": [
    "BEGIN\n",
    "    PROMPT \"Enter a number:\"\n",
    "    READ number\n",
    "\n",
    "    FOR i FROM 1 to 10 DO\n",
    "        SET product = number *i\n",
    "        PRINT number, \"x\", i, \"=\", product\n",
    "    END FOR\n",
    "END"
   ]
  },
  {
   "cell_type": "markdown",
   "metadata": {},
   "source": [
    "Bonus Exercise 8: Count Words in a String\n",
    "Write pseudocode that counts the words in a given string and prints the result."
   ]
  },
  {
   "cell_type": "markdown",
   "metadata": {},
   "source": [
    "BEGIN\n",
    "    PROMPT \"Enter a string:\"\n",
    "    READ inputString\n",
    "\n",
    "    // Remove leading and trailing spaces (optional)\n",
    "    SET trimmedString = inputString with leading and trailing spaces removed\n",
    "\n",
    "    // Check if string is empty after trimming\n",
    "    IF length of trimmedString = 0 THEN\n",
    "        SET wordCount = 0\n",
    "    ELSE\n",
    "        // Split the string by spaces into a list of words\n",
    "        SET words = split trimmedString by spaces\n",
    "        SET wordCount = number of elements in words\n",
    "    END IF\n",
    "\n",
    "    PRINT \"Number of words:\", wordCount\n",
    "END"
   ]
  },
  {
   "cell_type": "markdown",
   "metadata": {},
   "source": [
    "<!-- Add your pseudocode here -->"
   ]
  },
  {
   "cell_type": "markdown",
   "metadata": {},
   "source": [
    "<!-- Add your pseudocode here -->"
   ]
  },
  {
   "cell_type": "markdown",
   "metadata": {},
   "source": [
    "### Bonus Exercise 9: Find Factorial of a Number\n",
    "\n",
    "Write pseudocode that calculates the factorial of a given positive integer."
   ]
  },
  {
   "cell_type": "markdown",
   "metadata": {},
   "source": [
    "BEGIN\n",
    "    PROMPT \"Enter a positive integer:\"\n",
    "    READ n\n",
    "\n",
    "    SET factorial = 1\n",
    "\n",
    "    FOR i FROM 1 to n DO\n",
    "        factorial = factorial * i\n",
    "    END FOR\n",
    "\n",
    "    PRINT \"Factorial of\", n, \"is\", factorial\n",
    "\n",
    "END"
   ]
  },
  {
   "cell_type": "markdown",
   "metadata": {},
   "source": [
    "<!-- Add your pseudocode here -->"
   ]
  },
  {
   "cell_type": "markdown",
   "metadata": {},
   "source": [
    "### Bonus Exercise 10: FizzBuzz Problem\n",
    "\n",
    "Write pseudocode for the FizzBuzz problem where you print numbers from 1 to N but replace multiples of three with \"Fizz\" and multiples of five with \"Buzz\"."
   ]
  },
  {
   "cell_type": "markdown",
   "metadata": {},
   "source": [
    "BEGIN\n",
    "    PROMPT \"Enter the value of N:\"\n",
    "    READ N\n",
    "\n",
    "    FOR i FROM 1 to N DO\n",
    "        IF i MOD 3 = 0 and i MOD 5 = 0 THEN\n",
    "            PRINT \"FizzBuzz\"\n",
    "        ELSE IF i MOD 3 = 0 THEN\n",
    "            PRINT \"Fizz\"\n",
    "        ELSE IF i MOD 5 = 0 THEN\n",
    "            PRINT \"Buzz\"\n",
    "        ELSE\n",
    "            PRINT i\n",
    "        END IF\n",
    "    END FOR\n",
    "END\n"
   ]
  },
  {
   "cell_type": "markdown",
   "metadata": {},
   "source": [
    "<!-- Add your pseudocode here -->"
   ]
  }
 ],
 "metadata": {
  "kernelspec": {
   "display_name": "base",
   "language": "python",
   "name": "python3"
  },
  "language_info": {
   "codemirror_mode": {
    "name": "ipython",
    "version": 3
   },
   "file_extension": ".py",
   "mimetype": "text/x-python",
   "name": "python",
   "nbconvert_exporter": "python",
   "pygments_lexer": "ipython3",
   "version": "3.13.5"
  }
 },
 "nbformat": 4,
 "nbformat_minor": 2
}
